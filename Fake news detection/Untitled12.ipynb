{
 "cells": [
  {
   "cell_type": "code",
   "execution_count": 1,
   "id": "4515b738-15f3-4808-953c-307362b817a3",
   "metadata": {},
   "outputs": [],
   "source": [
    "import pandas as pd\n",
    "import numpy as np\n",
    "import matplotlib.pyplot as plt\n",
    "import seaborn as sns \n",
    "from sklearn.feature_extraction.text import CountVectorizer\n",
    "from sklearn.feature_extraction.text import TfidfTransformer\n",
    "from sklearn import feature_extraction, linear_model, model_selection, preprocessing\n",
    "from sklearn.metrics import accuracy_score\n",
    "from sklearn.model_selection import train_test_split\n",
    "from sklearn.pipeline import Pipeline"
   ]
  },
  {
   "cell_type": "code",
   "execution_count": 3,
   "id": "5ea0ac16-3fb1-4006-967a-250d44349425",
   "metadata": {},
   "outputs": [
    {
     "data": {
      "text/plain": [
       "(23481, 4)"
      ]
     },
     "execution_count": 3,
     "metadata": {},
     "output_type": "execute_result"
    }
   ],
   "source": [
    "fake = pd.read_csv(\"Fake.csv\")\n",
    "true = pd.read_csv(\"True.csv\")\n",
    "fake.shape"
   ]
  },
  {
   "cell_type": "code",
   "execution_count": 5,
   "id": "177bd972-11bd-49be-b479-bf049433069e",
   "metadata": {},
   "outputs": [
    {
     "data": {
      "text/plain": [
       "(21417, 4)"
      ]
     },
     "execution_count": 5,
     "metadata": {},
     "output_type": "execute_result"
    }
   ],
   "source": [
    "true.shape"
   ]
  },
  {
   "cell_type": "code",
   "execution_count": 7,
   "id": "fc655144-330e-41a3-bffc-303682c8efe4",
   "metadata": {},
   "outputs": [],
   "source": [
    "fake['target'] = 'fake'\n",
    "true['target'] = 'true'"
   ]
  },
  {
   "cell_type": "code",
   "execution_count": 9,
   "id": "846c26f5-d729-42fc-a29a-115a650e2e35",
   "metadata": {},
   "outputs": [
    {
     "data": {
      "text/plain": [
       "(44898, 5)"
      ]
     },
     "execution_count": 9,
     "metadata": {},
     "output_type": "execute_result"
    }
   ],
   "source": [
    "data = pd.concat([fake, true]).reset_index(drop = True)\n",
    "data.shape\n"
   ]
  },
  {
   "cell_type": "code",
   "execution_count": 11,
   "id": "193c3fea-61d6-4be9-9676-9bf22f02701e",
   "metadata": {},
   "outputs": [],
   "source": [
    "from sklearn.utils import shuffle\n",
    "data = shuffle(data)\n",
    "data = data.reset_index(drop=True)\n"
   ]
  },
  {
   "cell_type": "code",
   "execution_count": 13,
   "id": "5b4f97a2-e13e-41f5-a565-51880a202ff7",
   "metadata": {},
   "outputs": [
    {
     "data": {
      "text/html": [
       "<div>\n",
       "<style scoped>\n",
       "    .dataframe tbody tr th:only-of-type {\n",
       "        vertical-align: middle;\n",
       "    }\n",
       "\n",
       "    .dataframe tbody tr th {\n",
       "        vertical-align: top;\n",
       "    }\n",
       "\n",
       "    .dataframe thead th {\n",
       "        text-align: right;\n",
       "    }\n",
       "</style>\n",
       "<table border=\"1\" class=\"dataframe\">\n",
       "  <thead>\n",
       "    <tr style=\"text-align: right;\">\n",
       "      <th></th>\n",
       "      <th>title</th>\n",
       "      <th>text</th>\n",
       "      <th>subject</th>\n",
       "      <th>date</th>\n",
       "      <th>target</th>\n",
       "    </tr>\n",
       "  </thead>\n",
       "  <tbody>\n",
       "    <tr>\n",
       "      <th>0</th>\n",
       "      <td>Trump Gets His Safe Space As Women’s Protest ...</td>\n",
       "      <td>Trump cannot handle dissent. He cannot handle ...</td>\n",
       "      <td>News</td>\n",
       "      <td>December 9, 2016</td>\n",
       "      <td>fake</td>\n",
       "    </tr>\n",
       "    <tr>\n",
       "      <th>1</th>\n",
       "      <td>IRS EXEC LOIS LERNER DEMANDS SECRECY In Law Su...</td>\n",
       "      <td>This is rich! Lois Lerner wants her testimony ...</td>\n",
       "      <td>politics</td>\n",
       "      <td>Apr 14, 2017</td>\n",
       "      <td>fake</td>\n",
       "    </tr>\n",
       "    <tr>\n",
       "      <th>2</th>\n",
       "      <td>Pentagon warns against impact of extending tem...</td>\n",
       "      <td>WASHINGTON (Reuters) - U.S. Secretary of Defen...</td>\n",
       "      <td>politicsNews</td>\n",
       "      <td>November 29, 2016</td>\n",
       "      <td>true</td>\n",
       "    </tr>\n",
       "    <tr>\n",
       "      <th>3</th>\n",
       "      <td>US MEDIA THROWING OUT “Unmitigated Bullsh*t.” ...</td>\n",
       "      <td>Like we didn t know this already BUT now we ha...</td>\n",
       "      <td>politics</td>\n",
       "      <td>Aug 15, 2016</td>\n",
       "      <td>fake</td>\n",
       "    </tr>\n",
       "    <tr>\n",
       "      <th>4</th>\n",
       "      <td>Hispanic Man Living In “Hood” Has BRUTAL Messa...</td>\n",
       "      <td>It s easy to blame the  White man that way, y...</td>\n",
       "      <td>left-news</td>\n",
       "      <td>Aug 30, 2016</td>\n",
       "      <td>fake</td>\n",
       "    </tr>\n",
       "  </tbody>\n",
       "</table>\n",
       "</div>"
      ],
      "text/plain": [
       "                                               title  \\\n",
       "0   Trump Gets His Safe Space As Women’s Protest ...   \n",
       "1  IRS EXEC LOIS LERNER DEMANDS SECRECY In Law Su...   \n",
       "2  Pentagon warns against impact of extending tem...   \n",
       "3  US MEDIA THROWING OUT “Unmitigated Bullsh*t.” ...   \n",
       "4  Hispanic Man Living In “Hood” Has BRUTAL Messa...   \n",
       "\n",
       "                                                text       subject  \\\n",
       "0  Trump cannot handle dissent. He cannot handle ...          News   \n",
       "1  This is rich! Lois Lerner wants her testimony ...      politics   \n",
       "2  WASHINGTON (Reuters) - U.S. Secretary of Defen...  politicsNews   \n",
       "3  Like we didn t know this already BUT now we ha...      politics   \n",
       "4   It s easy to blame the  White man that way, y...     left-news   \n",
       "\n",
       "                 date target  \n",
       "0    December 9, 2016   fake  \n",
       "1        Apr 14, 2017   fake  \n",
       "2  November 29, 2016    true  \n",
       "3        Aug 15, 2016   fake  \n",
       "4        Aug 30, 2016   fake  "
      ]
     },
     "execution_count": 13,
     "metadata": {},
     "output_type": "execute_result"
    }
   ],
   "source": [
    "data.head()"
   ]
  },
  {
   "cell_type": "code",
   "execution_count": 15,
   "id": "9df96118-de5d-494b-819d-18a00cdf39cc",
   "metadata": {},
   "outputs": [
    {
     "data": {
      "text/html": [
       "<div>\n",
       "<style scoped>\n",
       "    .dataframe tbody tr th:only-of-type {\n",
       "        vertical-align: middle;\n",
       "    }\n",
       "\n",
       "    .dataframe tbody tr th {\n",
       "        vertical-align: top;\n",
       "    }\n",
       "\n",
       "    .dataframe thead th {\n",
       "        text-align: right;\n",
       "    }\n",
       "</style>\n",
       "<table border=\"1\" class=\"dataframe\">\n",
       "  <thead>\n",
       "    <tr style=\"text-align: right;\">\n",
       "      <th></th>\n",
       "      <th>title</th>\n",
       "      <th>text</th>\n",
       "      <th>subject</th>\n",
       "      <th>target</th>\n",
       "    </tr>\n",
       "  </thead>\n",
       "  <tbody>\n",
       "    <tr>\n",
       "      <th>0</th>\n",
       "      <td>Trump Gets His Safe Space As Women’s Protest ...</td>\n",
       "      <td>Trump cannot handle dissent. He cannot handle ...</td>\n",
       "      <td>News</td>\n",
       "      <td>fake</td>\n",
       "    </tr>\n",
       "    <tr>\n",
       "      <th>1</th>\n",
       "      <td>IRS EXEC LOIS LERNER DEMANDS SECRECY In Law Su...</td>\n",
       "      <td>This is rich! Lois Lerner wants her testimony ...</td>\n",
       "      <td>politics</td>\n",
       "      <td>fake</td>\n",
       "    </tr>\n",
       "    <tr>\n",
       "      <th>2</th>\n",
       "      <td>Pentagon warns against impact of extending tem...</td>\n",
       "      <td>WASHINGTON (Reuters) - U.S. Secretary of Defen...</td>\n",
       "      <td>politicsNews</td>\n",
       "      <td>true</td>\n",
       "    </tr>\n",
       "    <tr>\n",
       "      <th>3</th>\n",
       "      <td>US MEDIA THROWING OUT “Unmitigated Bullsh*t.” ...</td>\n",
       "      <td>Like we didn t know this already BUT now we ha...</td>\n",
       "      <td>politics</td>\n",
       "      <td>fake</td>\n",
       "    </tr>\n",
       "    <tr>\n",
       "      <th>4</th>\n",
       "      <td>Hispanic Man Living In “Hood” Has BRUTAL Messa...</td>\n",
       "      <td>It s easy to blame the  White man that way, y...</td>\n",
       "      <td>left-news</td>\n",
       "      <td>fake</td>\n",
       "    </tr>\n",
       "  </tbody>\n",
       "</table>\n",
       "</div>"
      ],
      "text/plain": [
       "                                               title  \\\n",
       "0   Trump Gets His Safe Space As Women’s Protest ...   \n",
       "1  IRS EXEC LOIS LERNER DEMANDS SECRECY In Law Su...   \n",
       "2  Pentagon warns against impact of extending tem...   \n",
       "3  US MEDIA THROWING OUT “Unmitigated Bullsh*t.” ...   \n",
       "4  Hispanic Man Living In “Hood” Has BRUTAL Messa...   \n",
       "\n",
       "                                                text       subject target  \n",
       "0  Trump cannot handle dissent. He cannot handle ...          News   fake  \n",
       "1  This is rich! Lois Lerner wants her testimony ...      politics   fake  \n",
       "2  WASHINGTON (Reuters) - U.S. Secretary of Defen...  politicsNews   true  \n",
       "3  Like we didn t know this already BUT now we ha...      politics   fake  \n",
       "4   It s easy to blame the  White man that way, y...     left-news   fake  "
      ]
     },
     "execution_count": 15,
     "metadata": {},
     "output_type": "execute_result"
    }
   ],
   "source": [
    "data.drop([\"date\"],axis=1,inplace=True)\n",
    "data.head()"
   ]
  },
  {
   "cell_type": "code",
   "execution_count": 17,
   "id": "1aede86f-badd-4cc3-8463-d8d97ea5e9d8",
   "metadata": {},
   "outputs": [
    {
     "name": "stdout",
     "output_type": "stream",
     "text": [
      "subject\n",
      "Government News     1570\n",
      "Middle-east          778\n",
      "News                9050\n",
      "US_News              783\n",
      "left-news           4459\n",
      "politics            6841\n",
      "politicsNews       11272\n",
      "worldnews          10145\n",
      "Name: text, dtype: int64\n"
     ]
    },
    {
     "data": {
      "image/png": "[encoded data removed]",
      "text/plain": [
       "<Figure size 640x480 with 1 Axes>"
      ]
     },
     "metadata": {},
     "output_type": "display_data"
    }
   ],
   "source": [
    "print(data.groupby(['subject'])['text'].count())\n",
    "data.groupby(['subject'])['text'].count().plot(kind=\"bar\")\n",
    "plt.show()"
   ]
  },
  {
   "cell_type": "code",
   "execution_count": null,
   "id": "a0423361-846a-4784-9983-8a01ebb0b28e",
   "metadata": {},
   "outputs": [],
   "source": []
  }
 ],
 "metadata": {
  "kernelspec": {
   "display_name": "Python 3 (ipykernel)",
   "language": "python",
   "name": "python3"
  },
  "language_info": {
   "codemirror_mode": {
    "name": "ipython",
    "version": 3
   },
   "file_extension": ".py",
   "mimetype": "text/x-python",
   "name": "python",
   "nbconvert_exporter": "python",
   "pygments_lexer": "ipython3",
   "version": "3.12.4"
  }
 },
 "nbformat": 4,
 "nbformat_minor": 5
}
